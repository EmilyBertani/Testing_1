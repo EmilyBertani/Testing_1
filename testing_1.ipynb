{
 "cells": [
  {
   "cell_type": "code",
   "execution_count": 1,
   "id": "4bcac3b5-d07b-4da9-b702-7808ec38b4d8",
   "metadata": {},
   "outputs": [
    {
     "name": "stdout",
     "output_type": "stream",
     "text": [
      "I am testing my github repo\n"
     ]
    }
   ],
   "source": [
    "print('I am testing my github repo')"
   ]
  },
  {
   "cell_type": "code",
   "execution_count": 2,
   "id": "e8664bd3-724f-4309-9aa7-477a35f71e66",
   "metadata": {},
   "outputs": [
    {
     "name": "stdout",
     "output_type": "stream",
     "text": [
      "I am testing again\n"
     ]
    }
   ],
   "source": [
    "print('I am testing again')"
   ]
  },
  {
   "cell_type": "code",
   "execution_count": null,
   "id": "79270cda-d292-4824-a4e1-65a087a0c55c",
   "metadata": {},
   "outputs": [],
   "source": []
  }
 ],
 "metadata": {
  "kernelspec": {
   "display_name": "Python (dev)",
   "language": "python",
   "name": "dev"
  },
  "language_info": {
   "codemirror_mode": {
    "name": "ipython",
    "version": 3
   },
   "file_extension": ".py",
   "mimetype": "text/x-python",
   "name": "python",
   "nbconvert_exporter": "python",
   "pygments_lexer": "ipython3",
   "version": "3.7.10"
  }
 },
 "nbformat": 4,
 "nbformat_minor": 5
}
